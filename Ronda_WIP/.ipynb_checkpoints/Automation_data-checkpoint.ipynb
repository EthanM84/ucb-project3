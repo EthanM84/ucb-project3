{
 "cells": [
  {
   "cell_type": "code",
   "execution_count": 1,
   "id": "0ad8c068-94cc-4dc7-97ad-b05072f5f5c0",
   "metadata": {},
   "outputs": [],
   "source": [
    "from pymongo import MongoClient\n",
    "from pprint import pprint"
   ]
  },
  {
   "cell_type": "code",
   "execution_count": 2,
   "id": "df8714f1-f92b-4c73-a33d-a728e5946bbb",
   "metadata": {},
   "outputs": [],
   "source": [
    "mongo = MongoClient(port=27017)"
   ]
  },
  {
   "cell_type": "code",
   "execution_count": 3,
   "id": "2f4aed74-8dac-47cd-9a9f-37d953295ce8",
   "metadata": {
    "tags": []
   },
   "outputs": [],
   "source": [
    "# Define the Job_Automation database in Mongo\n",
    "JobsDB = mongo['Job_Automation']\n"
   ]
  },
  {
   "cell_type": "code",
   "execution_count": 5,
   "id": "01b141b6-f129-48fe-a9e2-2e6ad81b0a53",
   "metadata": {},
   "outputs": [
    {
     "name": "stdout",
     "output_type": "stream",
     "text": [
      "['USBLS_jobs_data', 'Automation_Data']\n"
     ]
    }
   ],
   "source": [
    "# View the collections\n",
    "print(JobsDB.list_collection_names())"
   ]
  },
  {
   "cell_type": "code",
   "execution_count": 7,
   "id": "d92a885c-0c06-42b9-a83b-4e5f8a102ca1",
   "metadata": {
    "tags": []
   },
   "outputs": [],
   "source": [
    "# assign the collection to a variable\n",
    "jobs_data = JobsDB['USBLS_jobs_data']"
   ]
  },
  {
   "cell_type": "code",
   "execution_count": 8,
   "id": "9a289c24-b12e-4486-8d33-21474d457b34",
   "metadata": {},
   "outputs": [],
   "source": [
    "# Delete all data with O_GROUP = total\n",
    "query1 = {'O_GROUP': 'total'}\n",
    "jobs_data.delete_many(query1)\n",
    "query2 = {'O_GROUP': 'major'}\n",
    "jobs_data.delete_many(query2)"
   ]
  },
  {
   "cell_type": "code",
   "execution_count": null,
   "id": "d5f2370c-fd4e-4bc1-b81f-5cd24198f51e",
   "metadata": {},
   "outputs": [],
   "source": []
  },
  {
   "cell_type": "code",
   "execution_count": null,
   "id": "d0626f17-0480-4d78-80da-367ae8b040ce",
   "metadata": {},
   "outputs": [],
   "source": []
  },
  {
   "cell_type": "code",
   "execution_count": null,
   "id": "50f3d2b7-6b71-4235-82c5-2ddcc9e05200",
   "metadata": {
    "tags": []
   },
   "outputs": [],
   "source": []
  },
  {
   "cell_type": "code",
   "execution_count": null,
   "id": "9ce313ff-8f22-46ae-ab6b-b1e73a6c24bc",
   "metadata": {
    "tags": []
   },
   "outputs": [],
   "source": []
  },
  {
   "cell_type": "code",
   "execution_count": null,
   "id": "3fd4b431-7787-4ffa-acf2-66ff945bd3d1",
   "metadata": {},
   "outputs": [],
   "source": []
  }
 ],
 "metadata": {
  "kernelspec": {
   "display_name": "Python 3 (ipykernel)",
   "language": "python",
   "name": "python3"
  },
  "language_info": {
   "codemirror_mode": {
    "name": "ipython",
    "version": 3
   },
   "file_extension": ".py",
   "mimetype": "text/x-python",
   "name": "python",
   "nbconvert_exporter": "python",
   "pygments_lexer": "ipython3",
   "version": "3.10.11"
  }
 },
 "nbformat": 4,
 "nbformat_minor": 5
}
